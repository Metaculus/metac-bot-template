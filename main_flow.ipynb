{
 "cells": [
  {
   "cell_type": "code",
   "execution_count": 7,
   "id": "cd851b5c-37f5-4e27-b38f-478bf55e921a",
   "metadata": {},
   "outputs": [],
   "source": [
    "from utils import set_env_vars\n",
    "set_env_vars(path = \"/Users/yonatankaplan/dev/llm_predict/env_vars.json\")"
   ]
  },
  {
   "cell_type": "code",
   "execution_count": 8,
   "id": "7ea2b004-2513-4dfd-acde-9e6ffe32f692",
   "metadata": {
    "scrolled": true
   },
   "outputs": [],
   "source": [
    "from agent_creator import create_experts_analyzer_assistant\n",
    "from asknews_scrapper import AskNewsScrapper\n",
    "from chat import run_first_stage_forecasters, \\\n",
    "    run_second_stage_forecasters\n",
    "from config import get_gpt_config\n",
    "from experts_extractor import run_expert_extractor, expert_creator\n",
    "from metaculus_api_requests import get_random_question\n",
    "from PROMPTS import *"
   ]
  },
  {
   "cell_type": "code",
   "execution_count": 9,
   "id": "581c08f7-385f-4051-af17-518b4c771804",
   "metadata": {},
   "outputs": [
    {
     "data": {
      "text/plain": [
       "'\\nOutput your response strictly as a JSON object with the following structure:\\n{\\n  \"prior_probability\": int,\\n  \"analysis_updates\": [\\n    {\\n      \"forecaster_name\": str,\\n      \"agreement_point\": str,\\n      \"disagreement_point\": str,\\n      \"key_takeaways\": List[str],\\n      \"effect_on_forecast\": \"+int%\" or \"-int%\"\\n    }\\n  ],\\n  \"revised_probability\": int\\n}\\nEnsure the response can be parsed by Python `json.loads`, e.g.: no trailing commas, no single quotes, etc.\\n'"
      ]
     },
     "execution_count": 9,
     "metadata": {},
     "output_type": "execute_result"
    }
   ],
   "source": [
    "#Prompt templates to edit\n",
    "EXPERTISE_ANALYZER_PROMPT\n",
    "SPECIFIC_EXPERTISE\n",
    "NEWS_STEP_INSTRUCTIONS\n",
    "NEWS_OUTPUT_FORMAT"
   ]
  },
  {
   "cell_type": "code",
   "execution_count": 10,
   "id": "c19d88d9-1beb-49e2-afd5-b8e9e590a199",
   "metadata": {},
   "outputs": [
    {
     "name": "stdout",
     "output_type": "stream",
     "text": [
      "Row !A156:O156 marked successfully as sampled.\n"
     ]
    }
   ],
   "source": [
    "# Initialize configs\n",
    "config = get_gpt_config(42, 0.7, \"gpt-4o\", 120)\n",
    "\n",
    "# Create Expert Identifier using EXPERTISE_ANALYZER_PROMPT\n",
    "expert_identifier = create_experts_analyzer_assistant(config=config, prompt = EXPERTISE_ANALYZER_PROMPT)\n",
    "\n",
    "# Get Random Question\n",
    "question = get_random_question()\n",
    "\n",
    "\n",
    "\n",
    "# upload to metaculus\n"
   ]
  },
  {
   "cell_type": "code",
   "execution_count": 11,
   "id": "ffb90c1d-5668-468e-a972-ff6c04e56013",
   "metadata": {},
   "outputs": [],
   "source": [
    "# Run experts identifier using the created prompt\n",
    "academic_disciplines, frameworks, professional_expertise, specialty = run_expert_extractor(expert_identifier,\n",
    "                                                                                           question)\n"
   ]
  },
  {
   "cell_type": "code",
   "execution_count": 12,
   "id": "bcdcac0d-86d5-47a6-8d87-4c71dc684555",
   "metadata": {
    "scrolled": true
   },
   "outputs": [
    {
     "name": "stderr",
     "output_type": "stream",
     "text": [
      "OpenAI client config of GPTAssistantAgent(MilitaryIntelligenceBattlefieldAssessmentAgent) - model: gpt-4o\n",
      "No matching assistant found, creating a new assistant\n",
      "WARNING:autogen.agentchat.contrib.gpt_assistant_agent:OpenAI client config of GPTAssistantAgent(MilitaryIntelligenceStrategicForecastingAgent) - model: gpt-4o\n",
      "WARNING:autogen.agentchat.contrib.gpt_assistant_agent:No matching assistant found, creating a new assistant\n",
      "WARNING:autogen.agentchat.contrib.gpt_assistant_agent:OpenAI client config of GPTAssistantAgent(MilitaryIntelligenceTerritorialControlAnalysisAgent) - model: gpt-4o\n",
      "WARNING:autogen.agentchat.contrib.gpt_assistant_agent:No matching assistant found, creating a new assistant\n",
      "WARNING:autogen.agentchat.contrib.gpt_assistant_agent:OpenAI client config of GPTAssistantAgent(DiplomacyConflictMediationAgent) - model: gpt-4o\n",
      "WARNING:autogen.agentchat.contrib.gpt_assistant_agent:No matching assistant found, creating a new assistant\n",
      "WARNING:autogen.agentchat.contrib.gpt_assistant_agent:OpenAI client config of GPTAssistantAgent(DiplomacyInternationalNegotiationsAgent) - model: gpt-4o\n",
      "WARNING:autogen.agentchat.contrib.gpt_assistant_agent:No matching assistant found, creating a new assistant\n",
      "WARNING:autogen.agentchat.contrib.gpt_assistant_agent:OpenAI client config of GPTAssistantAgent(DiplomacySanctionsAndDiplomaticPressureAgent) - model: gpt-4o\n",
      "WARNING:autogen.agentchat.contrib.gpt_assistant_agent:No matching assistant found, creating a new assistant\n",
      "WARNING:autogen.agentchat.contrib.gpt_assistant_agent:OpenAI client config of GPTAssistantAgent(SecurityStudiesRiskAssessmentAgent) - model: gpt-4o\n",
      "WARNING:autogen.agentchat.contrib.gpt_assistant_agent:No matching assistant found, creating a new assistant\n",
      "WARNING:autogen.agentchat.contrib.gpt_assistant_agent:OpenAI client config of GPTAssistantAgent(SecurityStudiesCrisisManagementAgent) - model: gpt-4o\n",
      "WARNING:autogen.agentchat.contrib.gpt_assistant_agent:No matching assistant found, creating a new assistant\n",
      "WARNING:autogen.agentchat.contrib.gpt_assistant_agent:OpenAI client config of GPTAssistantAgent(SecurityStudiesDefensePolicyAnalysisAgent) - model: gpt-4o\n",
      "WARNING:autogen.agentchat.contrib.gpt_assistant_agent:No matching assistant found, creating a new assistant\n",
      "WARNING:autogen.agentchat.contrib.gpt_assistant_agent:OpenAI client config of GPTAssistantAgent(InternationalRelationsRealismAgent) - model: gpt-4o\n",
      "WARNING:autogen.agentchat.contrib.gpt_assistant_agent:Matching assistant found, using the first matching assistant: {'id': 'asst_vrwqokAJR4crbXLuWfq5Hota', 'created_at': 1736973123, 'description': None, 'instructions': 'You are a forecaster with expertise in the field of International Relations (Realism). \\nYour task will proceed in three phases. \\n\\nIn Phase 1, you will be prompted to independently forecast a geopolitical event. \\nGiven your expertise in International Relations (Realism), begin by estimating an initial probability based on historical frequencies or base rates of similar events you consider relevant. Explain how you constructed your base rates and provide reasoning for this initial probability. \\nThen, considering your perspective as an expert in International Relations (Realism), make a list of distinct, non-overlapping factors you bring to bear on the problem. \\nFor each distinct factor, specify its name, provide reasoning for its effect, and quantify its effect on the probability of the outcome, using the format \\'+int%\\' or \\'-int%\\'. \\nYour reasoning should explain the specific mechanism by which each factor increases or decreases the probability of the outcome relative to the historical base rate (to the extent that it has an effect). \\nAvoid stating that a factor \\'could\\' or \\'may\\' or \\'can\\' have some effect and avoid \\'if-then\\' statements. Rather, commit to the effect (or lack thereof) based on available evidence. \\nAdjust the probability step by step, and provide a final probability. \\nAdjustments should be made using 5% increments (+/-0%, +/-5%, +/-10%, +/- 15%, +/-20%, etc.). \\nBe judicious, making sure that updates to the initial probability are justified. \\nForecasts must not be biased by personal preference or moral judgments. Ignore what you think *should* happen or what you would *like* to happen and base your predictions on evidence and valid reasoning. \\n\\nOutput your Phase 1 response as a JSON object with the following structure:\\n\\n{\\n    \"initial_reasoning\": str,\\n    \"initial_probability\": int,\\n    \"perspective_derived_factors\": [\\n        {\\n            \"name\": str,\\n            \"reasoning\": str,\\n            \"effect\": \"+int%\" or \"-int%\"\\n        }\\n    ],\\n    \"final_probability\": int\\n}\\n', 'metadata': {}, 'model': 'gpt-4o', 'name': 'InternationalRelationsRealismAgent', 'object': 'assistant', 'tools': [], 'response_format': 'auto', 'temperature': 1.0, 'tool_resources': ToolResources(code_interpreter=None, file_search=None), 'top_p': 1.0}\n",
      "WARNING:autogen.agentchat.contrib.gpt_assistant_agent:OpenAI client config of GPTAssistantAgent(InternationalRelationsLiberalismAgent) - model: gpt-4o\n",
      "WARNING:autogen.agentchat.contrib.gpt_assistant_agent:Matching assistant found, using the first matching assistant: {'id': 'asst_CnCWIaMeHoekeVVvnxZSjzHB', 'created_at': 1736973125, 'description': None, 'instructions': 'You are a forecaster with expertise in the field of International Relations (Liberalism). \\nYour task will proceed in three phases. \\n\\nIn Phase 1, you will be prompted to independently forecast a geopolitical event. \\nGiven your expertise in International Relations (Liberalism), begin by estimating an initial probability based on historical frequencies or base rates of similar events you consider relevant. Explain how you constructed your base rates and provide reasoning for this initial probability. \\nThen, considering your perspective as an expert in International Relations (Liberalism), make a list of distinct, non-overlapping factors you bring to bear on the problem. \\nFor each distinct factor, specify its name, provide reasoning for its effect, and quantify its effect on the probability of the outcome, using the format \\'+int%\\' or \\'-int%\\'. \\nYour reasoning should explain the specific mechanism by which each factor increases or decreases the probability of the outcome relative to the historical base rate (to the extent that it has an effect). \\nAvoid stating that a factor \\'could\\' or \\'may\\' or \\'can\\' have some effect and avoid \\'if-then\\' statements. Rather, commit to the effect (or lack thereof) based on available evidence. \\nAdjust the probability step by step, and provide a final probability. \\nAdjustments should be made using 5% increments (+/-0%, +/-5%, +/-10%, +/- 15%, +/-20%, etc.). \\nBe judicious, making sure that updates to the initial probability are justified. \\nForecasts must not be biased by personal preference or moral judgments. Ignore what you think *should* happen or what you would *like* to happen and base your predictions on evidence and valid reasoning. \\n\\nOutput your Phase 1 response as a JSON object with the following structure:\\n\\n{\\n    \"initial_reasoning\": str,\\n    \"initial_probability\": int,\\n    \"perspective_derived_factors\": [\\n        {\\n            \"name\": str,\\n            \"reasoning\": str,\\n            \"effect\": \"+int%\" or \"-int%\"\\n        }\\n    ],\\n    \"final_probability\": int\\n}\\n', 'metadata': {}, 'model': 'gpt-4o', 'name': 'InternationalRelationsLiberalismAgent', 'object': 'assistant', 'tools': [], 'response_format': 'auto', 'temperature': 1.0, 'tool_resources': ToolResources(code_interpreter=None, file_search=None), 'top_p': 1.0}\n",
      "WARNING:autogen.agentchat.contrib.gpt_assistant_agent:OpenAI client config of GPTAssistantAgent(InternationalRelationsConstructivismAgent) - model: gpt-4o\n",
      "WARNING:autogen.agentchat.contrib.gpt_assistant_agent:Matching assistant found, using the first matching assistant: {'id': 'asst_02D3UstBFpPTWObXCJg8vMaI', 'created_at': 1736973126, 'description': None, 'instructions': 'You are a forecaster with expertise in the field of International Relations (Constructivism). \\nYour task will proceed in three phases. \\n\\nIn Phase 1, you will be prompted to independently forecast a geopolitical event. \\nGiven your expertise in International Relations (Constructivism), begin by estimating an initial probability based on historical frequencies or base rates of similar events you consider relevant. Explain how you constructed your base rates and provide reasoning for this initial probability. \\nThen, considering your perspective as an expert in International Relations (Constructivism), make a list of distinct, non-overlapping factors you bring to bear on the problem. \\nFor each distinct factor, specify its name, provide reasoning for its effect, and quantify its effect on the probability of the outcome, using the format \\'+int%\\' or \\'-int%\\'. \\nYour reasoning should explain the specific mechanism by which each factor increases or decreases the probability of the outcome relative to the historical base rate (to the extent that it has an effect). \\nAvoid stating that a factor \\'could\\' or \\'may\\' or \\'can\\' have some effect and avoid \\'if-then\\' statements. Rather, commit to the effect (or lack thereof) based on available evidence. \\nAdjust the probability step by step, and provide a final probability. \\nAdjustments should be made using 5% increments (+/-0%, +/-5%, +/-10%, +/- 15%, +/-20%, etc.). \\nBe judicious, making sure that updates to the initial probability are justified. \\nForecasts must not be biased by personal preference or moral judgments. Ignore what you think *should* happen or what you would *like* to happen and base your predictions on evidence and valid reasoning. \\n\\nOutput your Phase 1 response as a JSON object with the following structure:\\n\\n{\\n    \"initial_reasoning\": str,\\n    \"initial_probability\": int,\\n    \"perspective_derived_factors\": [\\n        {\\n            \"name\": str,\\n            \"reasoning\": str,\\n            \"effect\": \"+int%\" or \"-int%\"\\n        }\\n    ],\\n    \"final_probability\": int\\n}\\n', 'metadata': {}, 'model': 'gpt-4o', 'name': 'InternationalRelationsConstructivismAgent', 'object': 'assistant', 'tools': [], 'response_format': 'auto', 'temperature': 1.0, 'tool_resources': ToolResources(code_interpreter=None, file_search=None), 'top_p': 1.0}\n",
      "WARNING:autogen.agentchat.contrib.gpt_assistant_agent:OpenAI client config of GPTAssistantAgent(MilitaryStrategyOffensive-defensiveTheoryAgent) - model: gpt-4o\n",
      "WARNING:autogen.agentchat.contrib.gpt_assistant_agent:No matching assistant found, creating a new assistant\n",
      "WARNING:autogen.agentchat.contrib.gpt_assistant_agent:OpenAI client config of GPTAssistantAgent(MilitaryStrategyAsymmetricWarfareAgent) - model: gpt-4o\n",
      "WARNING:autogen.agentchat.contrib.gpt_assistant_agent:No matching assistant found, creating a new assistant\n",
      "WARNING:autogen.agentchat.contrib.gpt_assistant_agent:OpenAI client config of GPTAssistantAgent(MilitaryStrategyCounterinsurgencyDoctrineAgent) - model: gpt-4o\n",
      "WARNING:autogen.agentchat.contrib.gpt_assistant_agent:No matching assistant found, creating a new assistant\n",
      "WARNING:autogen.agentchat.contrib.gpt_assistant_agent:OpenAI client config of GPTAssistantAgent(PoliticalScienceConflictResolutionTheoryAgent) - model: gpt-4o\n",
      "WARNING:autogen.agentchat.contrib.gpt_assistant_agent:No matching assistant found, creating a new assistant\n",
      "WARNING:autogen.agentchat.contrib.gpt_assistant_agent:OpenAI client config of GPTAssistantAgent(PoliticalScienceGeopoliticalAnalysisAgent) - model: gpt-4o\n",
      "WARNING:autogen.agentchat.contrib.gpt_assistant_agent:No matching assistant found, creating a new assistant\n",
      "WARNING:autogen.agentchat.contrib.gpt_assistant_agent:OpenAI client config of GPTAssistantAgent(PoliticalScienceSecurityDilemmaAgent) - model: gpt-4o\n",
      "WARNING:autogen.agentchat.contrib.gpt_assistant_agent:No matching assistant found, creating a new assistant\n",
      "WARNING:autogen.agentchat.contrib.gpt_assistant_agent:OpenAI client config of GPTAssistantAgent(RussianStudiesPost-sovietSecurityDynamicsAgent) - model: gpt-4o\n",
      "WARNING:autogen.agentchat.contrib.gpt_assistant_agent:No matching assistant found, creating a new assistant\n",
      "WARNING:autogen.agentchat.contrib.gpt_assistant_agent:OpenAI client config of GPTAssistantAgent(RussianStudiesRussianMilitaryDoctrineAgent) - model: gpt-4o\n",
      "WARNING:autogen.agentchat.contrib.gpt_assistant_agent:No matching assistant found, creating a new assistant\n",
      "WARNING:autogen.agentchat.contrib.gpt_assistant_agent:OpenAI client config of GPTAssistantAgent(RussianStudiesEurasianGeopoliticalStrategyAgent) - model: gpt-4o\n",
      "WARNING:autogen.agentchat.contrib.gpt_assistant_agent:No matching assistant found, creating a new assistant\n"
     ]
    }
   ],
   "source": [
    "# Create an expert for professional and academics using SPECIFIC_EXPERTISE\n",
    "all_professional_experts = expert_creator(experts=professional_expertise, config=config,\n",
    "                                          frameworks_specialties=specialty)\n",
    "all_academic_experts = expert_creator(experts=academic_disciplines, config=config,\n",
    "                                      frameworks_specialties=frameworks)\n"
   ]
  },
  {
   "cell_type": "code",
   "execution_count": 13,
   "id": "2b98fc58-07ad-4bd0-8338-923240ce7245",
   "metadata": {},
   "outputs": [],
   "source": [
    "# Run First Stage Using SPECIFIC_EXPERTISE, prompt = \"\" will yied the use of the bot's system message\n",
    "results = run_first_stage_forecasters(all_professional_experts + all_academic_experts,\n",
    "                                      question['title'] + \"\\n\" + question['description'],prompt = \"\")"
   ]
  },
  {
   "cell_type": "code",
   "execution_count": 14,
   "id": "a0345f4d-2621-4b53-8f10-5266b51dd810",
   "metadata": {},
   "outputs": [],
   "source": [
    "# get news articles\n",
    "news_scrapper = AskNewsScrapper()\n",
    "news = news_scrapper._ask_news_engine.news.search_news(query = question['title'] + \"\\n\" + question['description'],\n",
    "                                                       n_articles=5, return_type=\"both\", strategy=\"latest news\")"
   ]
  },
  {
   "cell_type": "code",
   "execution_count": 17,
   "id": "55056c30-c6fa-434f-8bc0-c6970867a82f",
   "metadata": {},
   "outputs": [],
   "source": [
    "# Run Second Stage with prompts NEWS_STEP_INSTRUCTIONS and output format NEWS_OUTPUT_FORMAT\n",
    "news_analysis_results = run_second_stage_forecasters(all_professional_experts, news, prompt = NEWS_STEP_INSTRUCTIONS,output_format = NEWS_OUTPUT_FORMAT)\n"
   ]
  },
  {
   "cell_type": "code",
   "execution_count": 16,
   "id": "8588dbdf-64de-4ac9-8258-71a17a49e8c1",
   "metadata": {},
   "outputs": [
    {
     "name": "stdout",
     "output_type": "stream",
     "text": [
      "Mean of revised probabilities: 8.333333333333334\n"
     ]
    }
   ],
   "source": [
    "# Get mean/final predictions\n",
    "mean_result_probabilities = [int(result['revised_probability']) for result in news_analysis_results.values()]\n",
    "print(f\"Mean of revised probabilities: {sum(mean_result_probabilities) / len(mean_result_probabilities)}\")\n"
   ]
  },
  {
   "cell_type": "code",
   "execution_count": null,
   "id": "6ce547d8-015e-43f8-91dd-ca5533e32b9d",
   "metadata": {},
   "outputs": [],
   "source": [
    "# Upload to Metaculus TODO"
   ]
  }
 ],
 "metadata": {
  "kernelspec": {
   "display_name": "Python 3 (ipykernel)",
   "language": "python",
   "name": "python3"
  },
  "language_info": {
   "codemirror_mode": {
    "name": "ipython",
    "version": 3
   },
   "file_extension": ".py",
   "mimetype": "text/x-python",
   "name": "python",
   "nbconvert_exporter": "python",
   "pygments_lexer": "ipython3",
   "version": "3.10.16"
  }
 },
 "nbformat": 4,
 "nbformat_minor": 5
}
